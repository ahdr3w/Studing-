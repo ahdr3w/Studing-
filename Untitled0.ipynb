{
  "nbformat": 4,
  "nbformat_minor": 0,
  "metadata": {
    "colab": {
      "name": "Untitled0.ipynb",
      "provenance": [],
      "collapsed_sections": [],
      "authorship_tag": "ABX9TyOt2WFjKpCMT0SQxeDdvt4I",
      "include_colab_link": true
    },
    "kernelspec": {
      "name": "python3",
      "display_name": "Python 3"
    },
    "language_info": {
      "name": "python"
    }
  },
  "cells": [
    {
      "cell_type": "markdown",
      "metadata": {
        "id": "view-in-github",
        "colab_type": "text"
      },
      "source": [
        "<a href=\"https://colab.research.google.com/github/ahdr3w/Studing-/blob/master/Untitled0.ipynb\" target=\"_parent\"><img src=\"https://colab.research.google.com/assets/colab-badge.svg\" alt=\"Open In Colab\"/></a>"
      ]
    },
    {
      "cell_type": "code",
      "execution_count": null,
      "metadata": {
        "colab": {
          "base_uri": "https://localhost:8080/"
        },
        "id": "L1lElvArspJR",
        "outputId": "68fd1845-fe35-4a26-e545-fd685a8742d6"
      },
      "outputs": [
        {
          "output_type": "stream",
          "name": "stdout",
          "text": [
            "1.7175660864611277\n"
          ]
        }
      ],
      "source": [
        "import numpy as np\n",
        "def func(x):\n",
        "  return np.exp(x)\n",
        "\n",
        "\n",
        "#метод прямоугольников\n",
        "\n",
        "def _rectangle_rule(func, a, b, nseg):\n",
        "    \"\"\"Обобщённое правило прямоугольников.\"\"\"\n",
        "    dx = 1.0 * (b - a) / nseg\n",
        "    sum = 0.0\n",
        "    xstart = a + 0.5 * dx \n",
        "    for i in range(nseg):\n",
        "        sum += func(xstart + i * dx)\n",
        "\n",
        "    return sum * dx\n",
        "x = _rectangle_rule(func, 0, 1, 10)\n",
        "\n",
        "# метод трапеций \n",
        "\n",
        "def trapezoid_rule(func, a, b, rtol, nseg0 = 1):\n",
        "    \"\"\"Правило трапеций\n",
        "       rtol - желаемая относительная точность вычислений\n",
        "       nseg0 - начальное число отрезков разбиения\"\"\"\n",
        "    nseg = nseg0\n",
        "    old_ans = 0.0\n",
        "    dx = 1.0 * (b - a) / nseg\n",
        "    ans = 0.5 * (func(a) + func(b))\n",
        "    for i in range(1, nseg):\n",
        "        ans += func(a + i * dx)\n",
        "\n",
        "    ans *= dx\n",
        "    err_est = max(1, abs(ans))\n",
        "    while (err_est > abs(rtol * ans)):\n",
        "        old_ans = ans\n",
        "        ans = 0.5 * (ans + _rectangle_rule(func, a, b, nseg)) # новые точки для уточнения интеграла\n",
        "                                                                      # добавляются ровно в середины предыдущих отрезков\n",
        "        nseg *= 2\n",
        "        err_est = abs(ans - old_ans)\n",
        "\n",
        "    return ans\n",
        "\n",
        "# метод Симпсона \n",
        "\n",
        "def simpson_rule(func, a, b, nseg):\n",
        "    \"\"\"Правило трапеций\n",
        "       nseg - число отрезков, на которые разбивается [a;b]\"\"\"\n",
        "    if nseg%2 == 1:\n",
        "        nseg += 1\n",
        "    dx = 1.0 * (b - a) / nseg\n",
        "    sum = (func(a) + 4 * func(a + dx) + func(b))\n",
        "    for i in range(1, nseg / 2):\n",
        "        sum += 2 * func(a + (2 * i) * dx) + 4 * func(a + (2 * i + 1) * dx)\n",
        "\n",
        "    return sum * dx / 3"
      ]
    }
  ]
}